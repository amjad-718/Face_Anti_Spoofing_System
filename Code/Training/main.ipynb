{
 "cells": [
  {
   "cell_type": "code",
   "execution_count": 1,
   "metadata": {},
   "outputs": [
    {
     "name": "stdout",
     "output_type": "stream",
     "text": [
      "Found 6640 images belonging to 2 classes.\n",
      "Found 1659 images belonging to 2 classes.\n",
      "Downloading data from https://storage.googleapis.com/tensorflow/keras-applications/mobilenet/mobilenet_1_0_224_tf_no_top.h5\n",
      "17225924/17225924 [==============================] - 2s 0us/step\n",
      "Epoch 1/10\n",
      "208/208 [==============================] - 210s 996ms/step - loss: 0.3416 - accuracy: 0.8575 - val_loss: 0.3648 - val_accuracy: 0.8704\n",
      "Epoch 2/10\n",
      "208/208 [==============================] - 187s 899ms/step - loss: 0.2341 - accuracy: 0.9033 - val_loss: 0.3698 - val_accuracy: 0.8620\n",
      "Epoch 3/10\n",
      "208/208 [==============================] - 200s 961ms/step - loss: 0.1957 - accuracy: 0.9252 - val_loss: 0.3734 - val_accuracy: 0.8620\n",
      "Epoch 4/10\n",
      "208/208 [==============================] - 188s 905ms/step - loss: 0.1721 - accuracy: 0.9367 - val_loss: 0.5132 - val_accuracy: 0.7607\n",
      "Epoch 5/10\n",
      "208/208 [==============================] - 191s 918ms/step - loss: 0.1567 - accuracy: 0.9437 - val_loss: 0.4346 - val_accuracy: 0.8143\n",
      "Epoch 6/10\n",
      "208/208 [==============================] - 189s 908ms/step - loss: 0.1412 - accuracy: 0.9532 - val_loss: 0.4354 - val_accuracy: 0.8168\n",
      "Epoch 7/10\n",
      "208/208 [==============================] - 194s 933ms/step - loss: 0.1321 - accuracy: 0.9569 - val_loss: 0.4825 - val_accuracy: 0.7981\n",
      "Epoch 8/10\n",
      "208/208 [==============================] - 197s 944ms/step - loss: 0.1236 - accuracy: 0.9605 - val_loss: 0.4695 - val_accuracy: 0.8071\n",
      "Epoch 9/10\n",
      "208/208 [==============================] - 193s 925ms/step - loss: 0.1160 - accuracy: 0.9649 - val_loss: 0.5710 - val_accuracy: 0.7667\n",
      "Epoch 10/10\n",
      "208/208 [==============================] - 207s 993ms/step - loss: 0.1110 - accuracy: 0.9663 - val_loss: 0.5588 - val_accuracy: 0.7800\n",
      "52/52 [==============================] - 35s 674ms/step - loss: 0.5588 - accuracy: 0.7800\n",
      "Accuracy on validation set: 0.7799879312515259\n"
     ]
    }
   ],
   "source": [
    "import os\n",
    "import numpy as np\n",
    "import tensorflow as tf\n",
    "from tensorflow.keras.preprocessing.image import ImageDataGenerator\n",
    "from tensorflow.keras.applications import MobileNet\n",
    "from tensorflow.keras import layers, models\n",
    "\n",
    "# Set the path to your dataset folder\n",
    "dataset_folder = \"Dataset\"\n",
    "\n",
    "# Define image size and batch size\n",
    "img_size = (224, 224)\n",
    "batch_size = 32\n",
    "\n",
    "# Create data generators for training and validation\n",
    "datagen = ImageDataGenerator(rescale=1./255, validation_split=0.2)\n",
    "\n",
    "train_generator = datagen.flow_from_directory(\n",
    "    dataset_folder,\n",
    "    target_size=img_size,\n",
    "    batch_size=batch_size,\n",
    "    class_mode='binary',\n",
    "    subset='training'\n",
    ")\n",
    "\n",
    "val_generator = datagen.flow_from_directory(\n",
    "    dataset_folder,\n",
    "    target_size=img_size,\n",
    "    batch_size=batch_size,\n",
    "    class_mode='binary',\n",
    "    subset='validation'\n",
    ")\n",
    "\n",
    "# Load MobileNet model with pre-trained weights\n",
    "base_model = MobileNet(weights='imagenet', include_top=False, input_shape=(224, 224, 3))\n",
    "\n",
    "# Freeze the layers of the pre-trained model\n",
    "for layer in base_model.layers:\n",
    "    layer.trainable = False\n",
    "\n",
    "# Create a custom model on top of MobileNet\n",
    "model = models.Sequential()\n",
    "model.add(base_model)\n",
    "model.add(layers.GlobalAveragePooling2D())\n",
    "model.add(layers.Dense(1, activation='sigmoid'))\n",
    "\n",
    "# Compile the model\n",
    "model.compile(optimizer='adam', loss='binary_crossentropy', metrics=['accuracy'])\n",
    "\n",
    "# Train the model\n",
    "history = model.fit(train_generator, epochs=10, validation_data=val_generator)\n",
    "\n",
    "# Print the accuracy\n",
    "accuracy = model.evaluate(val_generator)[1]\n",
    "print(f\"Accuracy on validation set: {accuracy}\")\n"
   ]
  },
  {
   "cell_type": "code",
   "execution_count": null,
   "metadata": {},
   "outputs": [],
   "source": [
    "# Save the model\n",
    "model.save(\"Models\\mobilenet_real_vs_spoof.h5\")"
   ]
  }
 ],
 "metadata": {
  "kernelspec": {
   "display_name": "Python 3",
   "language": "python",
   "name": "python3"
  },
  "language_info": {
   "codemirror_mode": {
    "name": "ipython",
    "version": 3
   },
   "file_extension": ".py",
   "mimetype": "text/x-python",
   "name": "python",
   "nbconvert_exporter": "python",
   "pygments_lexer": "ipython3",
   "version": "3.11.2"
  }
 },
 "nbformat": 4,
 "nbformat_minor": 2
}
