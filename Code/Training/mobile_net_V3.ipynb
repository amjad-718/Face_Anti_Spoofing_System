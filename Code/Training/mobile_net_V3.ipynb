{
 "cells": [
  {
   "cell_type": "code",
   "execution_count": 5,
   "metadata": {},
   "outputs": [
    {
     "name": "stdout",
     "output_type": "stream",
     "text": [
      "Found 8299 images belonging to 2 classes.\n",
      "Epoch 1/5\n",
      "259/259 [==============================] - 838s 3s/step - loss: 0.0911 - accuracy: 0.9659\n",
      "Epoch 2/5\n",
      "259/259 [==============================] - 828s 3s/step - loss: 0.0352 - accuracy: 0.9874\n",
      "Epoch 3/5\n",
      "259/259 [==============================] - 826s 3s/step - loss: 0.0262 - accuracy: 0.9936\n",
      "Epoch 4/5\n",
      "259/259 [==============================] - 822s 3s/step - loss: 0.0162 - accuracy: 0.9947\n",
      "Epoch 5/5\n",
      "259/259 [==============================] - 821s 3s/step - loss: 0.0144 - accuracy: 0.9938\n",
      "260/260 [==============================] - 214s 818ms/step - loss: 0.6216 - accuracy: 0.8526\n",
      "Accuracy for MobileNetV3Large: 0.8526328206062317\n"
     ]
    }
   ],
   "source": [
    "# 1) MobileNet V3\n",
    "\n",
    "import os\n",
    "from tensorflow.keras.preprocessing.image import ImageDataGenerator\n",
    "from tensorflow.keras.applications import MobileNetV3Large\n",
    "from tensorflow.keras.models import Sequential\n",
    "from tensorflow.keras.layers import GlobalAveragePooling2D, Dense\n",
    "\n",
    "# Set the path to your dataset\n",
    "dataset_path = \"Dataset\"\n",
    "\n",
    "# Define image dimensions and batch size\n",
    "img_width, img_height = 224, 224\n",
    "batch_size = 32\n",
    "\n",
    "# Define the model\n",
    "base_model = MobileNetV3Large(weights='imagenet', include_top=False, input_shape=(img_width, img_height, 3))\n",
    "model = Sequential([\n",
    "    base_model,\n",
    "    GlobalAveragePooling2D(),\n",
    "    Dense(1, activation='sigmoid')\n",
    "])\n",
    "\n",
    "# Compile the model\n",
    "model.compile(optimizer='adam', loss='binary_crossentropy', metrics=['accuracy'])\n",
    "\n",
    "# Create data generators\n",
    "train_datagen = ImageDataGenerator(rescale=1./255)\n",
    "train_generator = train_datagen.flow_from_directory(\n",
    "    dataset_path,\n",
    "    target_size=(img_width, img_height),\n",
    "    batch_size=batch_size,\n",
    "    class_mode='binary',\n",
    "    shuffle=True\n",
    ")\n",
    "\n",
    "# Train the model\n",
    "model.fit(\n",
    "    train_generator,\n",
    "    steps_per_epoch=train_generator.samples // batch_size,\n",
    "    epochs=5  # You may need to adjust the number of epochs\n",
    ")\n",
    "\n",
    "# Evaluate the model\n",
    "_, accuracy = model.evaluate(train_generator)\n",
    "print(f\"Accuracy for MobileNetV3Large: {accuracy}\")"
   ]
  },
  {
   "cell_type": "code",
   "execution_count": null,
   "metadata": {},
   "outputs": [],
   "source": [
    "# Save the model\n",
    "model.save(\"Models\\latest_model.h5\")"
   ]
  }
 ],
 "metadata": {
  "kernelspec": {
   "display_name": "Python 3",
   "language": "python",
   "name": "python3"
  },
  "language_info": {
   "codemirror_mode": {
    "name": "ipython",
    "version": 3
   },
   "file_extension": ".py",
   "mimetype": "text/x-python",
   "name": "python",
   "nbconvert_exporter": "python",
   "pygments_lexer": "ipython3",
   "version": "3.11.2"
  }
 },
 "nbformat": 4,
 "nbformat_minor": 2
}
